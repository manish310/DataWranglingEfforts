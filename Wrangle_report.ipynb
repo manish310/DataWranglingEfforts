{
 "cells": [
  {
   "cell_type": "markdown",
   "metadata": {},
   "source": [
    "### Wrangle Report"
   ]
  },
  {
   "cell_type": "markdown",
   "metadata": {},
   "source": [
    "Here in this project of data wrangling we have three dataset collected from different sources. These three dataset files are as follows: \n",
    "\n",
    "1. twitter_archive_enhanced.csv\n",
    "2. tweet_json.txt\n",
    "3. image_predictions.tsv\n",
    "\n",
    "Let’s discuss about issues and challenges I faced with these files and procedure to rectify the same in details.\n",
    "1. twitter_archive_enhanced.csv:\n",
    "The largest among the three datasets, provides all basic data for the analysis and insights. So, our focus should be to wrangle it properly. The dataset contains 17 columns and 2356 rows. By seeing, retweeted_status_id column we can easily sense that some re-tweeted data are present which we do not need for our analysis. After removing re-tweet data we are left with 2173 records. This can be achieved using code df_archive.text.str[:2]!='RT'. Text column  start with RT for re-tweets.\n",
    "Through inspection I found out that one tweet with tweet_id 835246439529840640 has rating_denominator as 0 which seems incorrect. So, I verified this with tweet ’text’ using print(df_archive_clean['text'][313]) and found that actual rating_denominator is 10. Also, there are some extraneous columns like in_reply_to_status_id, in_reply_to_user_id’, retweeted_status_id,retweeted_status_user_id and retweeted_status_timestamp that can be removed safely. For this, a simple drop statement will do the job.\n",
    "Timestamp is stored as string variable, However it should be a datetime data type. This data type conversion can be easily achieved by pandas to_datetime function. One more variable Source has some extraneous characters that need to be removed for better analysis and insights. Column text has many valuables information such as rating, dog name, dog stage and short-url which could be extracted to separate columns. Two important columns are rating_numerator and rating_denominator which can be used to create a new column rating which will help in compare tweets magnitude wise.\n",
    "One more important issue is that columns doggo, floofer, pupper and puppo are in separate columns, however, there there is no need of this and for better table structure these data can be put into one single column dog_stage.\n",
    "\n",
    "2. tweet_json.txt:\n",
    "The smallest one among all three, it contains tweet_id, favourite_count and retweet_count.\n",
    "Only one major issue with dataset is that data type is string and needs to be change to integer. I can use astype for this task.\n",
    "Also, there is no need to maintain a separate table for these two columns favourite_count and retweet_count and better be merged with twitter_archive_enhanced. This simple code will do the task pd.merge(df_archive_clean,df_tweet_clean,on='tweet_id',how='left').\n",
    "\n",
    "3. image_predictions.tsv:\n",
    "\n",
    "This dataset contains some of the very important information. It contains prediction’s algorithm output of the dog images. The algorithm predicts dog’s breed with percentage of confidence. However, there are output of three algorithms is given in dataset. To make the analysis simple I will use only best prediction algorithm result i.e. p1, p1_conf and p1_dog.\n",
    "This dataset should also be merged with the twitter_archive_enhanced.\n",
    "\n",
    "Finally, after doing above cleaning and merging I exported the data in CSV format file named: twitter_archive_master.csv.\n",
    "\n"
   ]
  },
  {
   "cell_type": "code",
   "execution_count": null,
   "metadata": {},
   "outputs": [],
   "source": []
  }
 ],
 "metadata": {
  "kernelspec": {
   "display_name": "Python 3",
   "language": "python",
   "name": "python3"
  },
  "language_info": {
   "codemirror_mode": {
    "name": "ipython",
    "version": 3
   },
   "file_extension": ".py",
   "mimetype": "text/x-python",
   "name": "python",
   "nbconvert_exporter": "python",
   "pygments_lexer": "ipython3",
   "version": "3.6.3"
  }
 },
 "nbformat": 4,
 "nbformat_minor": 2
}
